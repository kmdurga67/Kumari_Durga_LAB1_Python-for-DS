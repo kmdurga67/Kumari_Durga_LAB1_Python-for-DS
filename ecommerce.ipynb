{
 "cells": [
  {
   "cell_type": "code",
   "execution_count": 1,
   "id": "b880dc1f-9bc6-4b5d-b70e-14f2df1d72f5",
   "metadata": {},
   "outputs": [
    {
     "name": "stdout",
     "output_type": "stream",
     "text": [
      "Requirement already satisfied: mysql-connector-python in c:\\users\\durga\\appdata\\local\\programs\\python\\python312\\lib\\site-packages (8.2.0)\n",
      "Requirement already satisfied: protobuf<=4.21.12,>=4.21.1 in c:\\users\\durga\\appdata\\local\\programs\\python\\python312\\lib\\site-packages (from mysql-connector-python) (4.21.12)\n"
     ]
    }
   ],
   "source": [
    "!pip install mysql-connector-python"
   ]
  },
  {
   "cell_type": "code",
   "execution_count": 2,
   "id": "90ed3f68-4702-49d5-b311-39c882c599cb",
   "metadata": {},
   "outputs": [
    {
     "name": "stdout",
     "output_type": "stream",
     "text": [
      "Requirement already satisfied: pandas in c:\\users\\durga\\appdata\\local\\programs\\python\\python312\\lib\\site-packages (2.1.4)\n",
      "Requirement already satisfied: numpy<2,>=1.26.0 in c:\\users\\durga\\appdata\\local\\programs\\python\\python312\\lib\\site-packages (from pandas) (1.26.2)\n",
      "Requirement already satisfied: python-dateutil>=2.8.2 in c:\\users\\durga\\appdata\\local\\programs\\python\\python312\\lib\\site-packages (from pandas) (2.8.2)\n",
      "Requirement already satisfied: pytz>=2020.1 in c:\\users\\durga\\appdata\\local\\programs\\python\\python312\\lib\\site-packages (from pandas) (2023.3.post1)\n",
      "Requirement already satisfied: tzdata>=2022.1 in c:\\users\\durga\\appdata\\local\\programs\\python\\python312\\lib\\site-packages (from pandas) (2023.3)\n",
      "Requirement already satisfied: six>=1.5 in c:\\users\\durga\\appdata\\local\\programs\\python\\python312\\lib\\site-packages (from python-dateutil>=2.8.2->pandas) (1.16.0)\n"
     ]
    }
   ],
   "source": [
    "!pip install pandas"
   ]
  },
  {
   "cell_type": "code",
   "execution_count": 3,
   "id": "3d11a22d-42f2-435c-bce6-971eda23bbcd",
   "metadata": {},
   "outputs": [],
   "source": [
    "import mysql.connector \n",
    "import pandas as pd"
   ]
  },
  {
   "cell_type": "code",
   "execution_count": 9,
   "id": "b0aadc1e-6f0e-4f56-b8a8-7ea1d37cd322",
   "metadata": {},
   "outputs": [],
   "source": [
    "conn=mysql.connector.connect(host='localhost',  \n",
    "                        user='root', \n",
    "                        password='12345',\n",
    "                        database='e_commerce') \n",
    "curr=conn.cursor()"
   ]
  },
  {
   "cell_type": "code",
   "execution_count": 10,
   "id": "efe4f4d8-15e9-4b2a-963e-9493113fdc29",
   "metadata": {},
   "outputs": [],
   "source": [
    "curr.execute(\"DROP TABLE IF EXISTS SUPPLIER\")\n",
    "curr.execute(\"DROP TABLE IF EXISTS CUSTOMER\")\n",
    "curr.execute(\"DROP TABLE IF EXISTS CATEGORY\")\n",
    "curr.execute(\"DROP TABLE IF EXISTS PRODUCT\")\n",
    "curr.execute(\"DROP TABLE IF EXISTS PRODUCT_DETAILS\")\n",
    "\n",
    "\n",
    "sql ='''CREATE TABLE SUPPLIER(SUPP_ID int primary key, SUPP_NAME varchar(50), SUPP_CITY varchar(50), SUPP_PHONE varchar(10))'''\n",
    "\n",
    "sql1='''CREATE TABLE CUSTOMER(CUS_ID INT NOT NULL, CUS_NAME VARCHAR(20) NULL DEFAULT NULL, CUS_PHONE VARCHAR(10), CUS_CITY varchar(30) ,CUS_GENDER CHAR,PRIMARY KEY (CUS_ID))\n",
    "'''\n",
    "sql2='''\n",
    "CREATE TABLE category(CAT_ID INT NOT NULL, CAT_NAME VARCHAR(20) NULL DEFAULT NULL,PRIMARY KEY (CAT_ID))\n",
    "'''\n",
    "sql3='''\n",
    "CREATE TABLE product(PRO_ID INT NOT NULL, PRO_NAME VARCHAR(20) NULL DEFAULT NULL, PRO_DESC VARCHAR(60) NULL DEFAULT NULL, CAT_ID INT NOT NULL,PRIMARY KEY (PRO_ID),FOREIGN KEY (CAT_ID) REFERENCES CATEGORY (CAT_ID))\n",
    "'''\n",
    "sql4='''\n",
    "CREATE TABLE product_details (PROD_ID INT NOT NULL, PRO_ID INT NOT NULL, SUPP_ID INT NOT NULL, PROD_PRICE INT NOT NULL,PRIMARY KEY (PROD_ID),FOREIGN KEY (PRO_ID) REFERENCES PRODUCT (PRO_ID), FOREIGN KEY (SUPP_ID) REFERENCES SUPPLIER(SUPP_ID))\n",
    "'''\n",
    "\n",
    "\n",
    "curr.execute(sql)\n",
    "curr.execute(sql1)\n",
    "curr.execute(sql2)\n",
    "curr.execute(sql3)\n",
    "curr.execute(sql4)"
   ]
  },
  {
   "cell_type": "code",
   "execution_count": 11,
   "id": "96730787-4b30-4384-96b2-9c9c4da68486",
   "metadata": {},
   "outputs": [],
   "source": [
    "curr.execute(\"DROP TABLE IF EXISTS RATING\")\n",
    "curr.execute(\"DROP TABLE IF EXISTS ORDERS\")\n",
    "\n",
    "sql5='''CREATE TABLE orders (ORD_ID INT NOT NULL, ORD_AMOUNT INT NOT NULL, ORD_DATE DATE, CUS_ID INT NOT NULL, PROD_ID INT NOT NULL,PRIMARY KEY (ORD_ID),FOREIGN KEY (CUS_ID) REFERENCES CUSTOMER(CUS_ID),FOREIGN KEY (PROD_ID) REFERENCES PRODUCT_DETAILS(PROD_ID))\n",
    "'''\n",
    "sql6='''\n",
    "CREATE TABLE rating(RAT_ID INT NOT NULL, CUS_ID INT NOT NULL, SUPP_ID INT NOT NULL, RAT_RATSTARS INT NOT NULL,PRIMARY KEY (RAT_ID),FOREIGN KEY (SUPP_ID) REFERENCES SUPPLIER (SUPP_ID),FOREIGN KEY (CUS_ID) REFERENCES CUSTOMER(CUS_ID))\n",
    "'''\n",
    "curr.execute(sql5)\n",
    "curr.execute(sql6)"
   ]
  },
  {
   "cell_type": "code",
   "execution_count": 12,
   "id": "bbff4868-1a77-421f-b061-76025abf38d9",
   "metadata": {},
   "outputs": [],
   "source": [
    "s=\"insert into supplier (supp_id,supp_name,supp_city,supp_phone) values (%s,%s,%s,%s)\"\n",
    "val=[\n",
    "    (1,'Rajesh Retails' ,'Delhi','1234567890'),\n",
    "    (2 , 'Appario Ltd.' , 'Mumbai' , '2589631470'),\n",
    "    (3 , 'Knome products' , 'Bangalore' , '9785462315'),\n",
    "    (4 , 'Bansal Retails' , 'Kochi' , '8975463285'),\n",
    "    (5 , 'Mittal Ltd.' , 'Lucknow' , '7898456532')\n",
    "]\n",
    "curr.executemany(s,val)\n",
    "conn.commit()"
   ]
  },
  {
   "cell_type": "code",
   "execution_count": 13,
   "id": "f12eb4da-72e9-4578-b9ed-f2200a862ac4",
   "metadata": {},
   "outputs": [],
   "source": [
    "curr=conn.cursor()\n",
    "q=\"insert into customer (cus_id,cus_name,cus_phone,cus_city,cus_gender) values (%s,%s,%s,%s,%s)\"\n",
    "val1=[\n",
    "(1,  'AAKASH',  '9999999999',  'DELHI',  'M'), \n",
    " (2,  'AMAN',  '9785463215',  'NOIDA',  'M'), \n",
    " (3,  'NEHA',  '9999999998',  'MUMBAI',  'F'), \n",
    " (4,  'MEGHA', '9994562399',  'KOLKATA',  'F'), \n",
    " (5,  'PULKIT', '7895999999',  'LUCKNOW',  'M')\n",
    "]\n",
    "curr.executemany(q,val1)\n",
    "conn.commit()"
   ]
  },
  {
   "cell_type": "code",
   "execution_count": 14,
   "id": "fc1c614c-15c5-46eb-be22-0f726c94d5e2",
   "metadata": {},
   "outputs": [],
   "source": [
    "q=\"insert into category (cat_id,cat_name) values (%s,%s)\"\n",
    "val1=[\n",
    "(1,  'BOOKS'), \n",
    " (2,  'GAMES'),\n",
    " (3,  'GROCERIES'),\n",
    " (4,  'ELECTRONICS'),\n",
    " (5,  'CLOTHES'),\n",
    "]\n",
    "curr.executemany(q,val1)\n",
    "conn.commit()"
   ]
  },
  {
   "cell_type": "code",
   "execution_count": 15,
   "id": "56bb3652-83a1-4a4f-996b-d2e5d8b6e2b3",
   "metadata": {},
   "outputs": [],
   "source": [
    "q=\"insert into product (pro_id,pro_name,pro_desc,cat_id) values (%s,%s,%s,%s)\"\n",
    "val1=[\n",
    "(1,  'GTA V',  'DFJDJFDJFDJFDJFJF', 2), \n",
    " (2,  'TSHIRT',  'DFDFJDFJDKFD',  5), \n",
    " (3,  'ROG LAPTOP',  'DFNTTNTNTERND',  4), \n",
    " (4,  'OATS',  'REURENTBTOTH',3), \n",
    " (5,  'HARRY POTTER',  'NBEMCTHTJTH',  1)\n",
    "]\n",
    "curr.executemany(q,val1)\n",
    "conn.commit()"
   ]
  },
  {
   "cell_type": "code",
   "execution_count": 16,
   "id": "1fd00d07-e606-4ea8-8aa1-db0cb005c4c5",
   "metadata": {},
   "outputs": [],
   "source": [
    "q=\"insert into product_details (prod_id,pro_id,supp_id,prod_price) values (%s,%s,%s,%s)\"\n",
    "val1=[\n",
    "(1,1,2,1500), \n",
    " (2,3,5,30000),\n",
    "    (3,5,1,3000),\n",
    "    (4,2,3,2500),\n",
    "    (5,4,1,1000)\n",
    "]\n",
    "curr.executemany(q,val1)\n",
    "conn.commit()"
   ]
  },
  {
   "cell_type": "code",
   "execution_count": 17,
   "id": "e5c34751-6d62-4e61-9a16-7da59622576b",
   "metadata": {},
   "outputs": [],
   "source": [
    "q=\"INSERT INTO orders (ORD_ID, ORD_AMOUNT, ORD_DATE, CUS_ID, PROD_ID) VALUES (%s, %s, %s, %s, %s)\"\n",
    "val1 = [(20,1500,\"2021-10-12\",3,5),\n",
    "(25,30500,\"2021-09-16\",5,2),\n",
    "(26,2000,\"2021-10-05\",1,1),\n",
    "(30,3500,\"2021-08-16\",4,3),\n",
    "(50,2000,\"2021-10-06\",2,1)]\n",
    "curr.executemany(q,val1)\n",
    "conn.commit()"
   ]
  },
  {
   "cell_type": "code",
   "execution_count": 18,
   "id": "6476a344-8c20-4518-aeed-44158cd31885",
   "metadata": {},
   "outputs": [],
   "source": [
    "q = \"INSERT INTO rating (RAT_ID, CUS_ID, SUPP_ID, RAT_RATSTARS) VALUES (%s, %s, %s, %s)\"\n",
    "val1 = [(1,2,2,4),\n",
    "(2,3,4,3),\n",
    "(3,5,1,5),\n",
    "(4,1,3,2),\n",
    "(5,4,5,4)]\n",
    "curr.executemany(q,val1)\n",
    "conn.commit()"
   ]
  },
  {
   "cell_type": "code",
   "execution_count": 19,
   "id": "62a923e7-b43f-4ae9-9d7c-a5eeea75f1c0",
   "metadata": {},
   "outputs": [
    {
     "data": {
      "text/html": [
       "<div>\n",
       "<style scoped>\n",
       "    .dataframe tbody tr th:only-of-type {\n",
       "        vertical-align: middle;\n",
       "    }\n",
       "\n",
       "    .dataframe tbody tr th {\n",
       "        vertical-align: top;\n",
       "    }\n",
       "\n",
       "    .dataframe thead th {\n",
       "        text-align: right;\n",
       "    }\n",
       "</style>\n",
       "<table border=\"1\" class=\"dataframe\">\n",
       "  <thead>\n",
       "    <tr style=\"text-align: right;\">\n",
       "      <th></th>\n",
       "      <th>CUS_GENDER</th>\n",
       "      <th>COUNT</th>\n",
       "    </tr>\n",
       "  </thead>\n",
       "  <tbody>\n",
       "    <tr>\n",
       "      <th>0</th>\n",
       "      <td>M</td>\n",
       "      <td>1</td>\n",
       "    </tr>\n",
       "    <tr>\n",
       "      <th>1</th>\n",
       "      <td>F</td>\n",
       "      <td>1</td>\n",
       "    </tr>\n",
       "  </tbody>\n",
       "</table>\n",
       "</div>"
      ],
      "text/plain": [
       "  CUS_GENDER  COUNT\n",
       "0          M      1\n",
       "1          F      1"
      ]
     },
     "execution_count": 19,
     "metadata": {},
     "output_type": "execute_result"
    }
   ],
   "source": [
    "conn.close()\n",
    "conn=mysql.connector.connect(host='localhost',  \n",
    "                        user='root', \n",
    "                        password='12345',\n",
    "                        database='e_commerce') \n",
    "curr=conn.cursor(buffered=True)\n",
    "Query3= \"\"\"select customer.cus_gender,count(customer.cus_gender) as count\n",
    "from customer inner join `orders` on customer.cus_id=`orders`.cus_id\n",
    "where `orders`.ord_amount>=3000 group by customer.cus_gender;\"\"\"\n",
    "curr.execute(Query3)\n",
    "output = curr.fetchall()\n",
    "output_df = pd.DataFrame(output, columns=['CUS_GENDER','COUNT'])\n",
    "output_df"
   ]
  },
  {
   "cell_type": "code",
   "execution_count": 20,
   "id": "8c0d406a-f11a-4cd9-8f7d-56110a73eb6f",
   "metadata": {},
   "outputs": [
    {
     "data": {
      "text/html": [
       "<div>\n",
       "<style scoped>\n",
       "    .dataframe tbody tr th:only-of-type {\n",
       "        vertical-align: middle;\n",
       "    }\n",
       "\n",
       "    .dataframe tbody tr th {\n",
       "        vertical-align: top;\n",
       "    }\n",
       "\n",
       "    .dataframe thead th {\n",
       "        text-align: right;\n",
       "    }\n",
       "</style>\n",
       "<table border=\"1\" class=\"dataframe\">\n",
       "  <thead>\n",
       "    <tr style=\"text-align: right;\">\n",
       "      <th></th>\n",
       "      <th>ORD_ID</th>\n",
       "      <th>ORD_AMOUNT</th>\n",
       "      <th>ORD_DATE</th>\n",
       "      <th>CUS_ID</th>\n",
       "      <th>PROD_ID</th>\n",
       "      <th>PRO_NAME</th>\n",
       "    </tr>\n",
       "  </thead>\n",
       "  <tbody>\n",
       "    <tr>\n",
       "      <th>0</th>\n",
       "      <td>50</td>\n",
       "      <td>2000</td>\n",
       "      <td>2021-10-06</td>\n",
       "      <td>2</td>\n",
       "      <td>1</td>\n",
       "      <td>GTA V</td>\n",
       "    </tr>\n",
       "  </tbody>\n",
       "</table>\n",
       "</div>"
      ],
      "text/plain": [
       "   ORD_ID  ORD_AMOUNT    ORD_DATE  CUS_ID  PROD_ID PRO_NAME\n",
       "0      50        2000  2021-10-06       2        1    GTA V"
      ]
     },
     "execution_count": 20,
     "metadata": {},
     "output_type": "execute_result"
    }
   ],
   "source": [
    "Query4= \"\"\"select `orders`.*,product.pro_name from `orders` ,product_details,product\n",
    "where `orders`.cus_id=2 and `orders`.prod_id=product_details.prod_id and product_details.pro_id=product.pro_id;\"\"\"\n",
    "curr.execute(Query4)\n",
    "output = curr.fetchall()\n",
    "output_df = pd.DataFrame(output, columns=['ORD_ID','ORD_AMOUNT','ORD_DATE','CUS_ID','PROD_ID','PRO_NAME'])\n",
    "output_df"
   ]
  },
  {
   "cell_type": "code",
   "execution_count": 21,
   "id": "c329b3b4-7963-4c34-9f4a-490eebdc7fb4",
   "metadata": {},
   "outputs": [
    {
     "data": {
      "text/html": [
       "<div>\n",
       "<style scoped>\n",
       "    .dataframe tbody tr th:only-of-type {\n",
       "        vertical-align: middle;\n",
       "    }\n",
       "\n",
       "    .dataframe tbody tr th {\n",
       "        vertical-align: top;\n",
       "    }\n",
       "\n",
       "    .dataframe thead th {\n",
       "        text-align: right;\n",
       "    }\n",
       "</style>\n",
       "<table border=\"1\" class=\"dataframe\">\n",
       "  <thead>\n",
       "    <tr style=\"text-align: right;\">\n",
       "      <th></th>\n",
       "      <th>SUPP_ID</th>\n",
       "      <th>SUPP_NAME</th>\n",
       "      <th>SUPP_CITY</th>\n",
       "      <th>SUPP_PHONE</th>\n",
       "    </tr>\n",
       "  </thead>\n",
       "  <tbody>\n",
       "    <tr>\n",
       "      <th>0</th>\n",
       "      <td>1</td>\n",
       "      <td>Rajesh Retails</td>\n",
       "      <td>Delhi</td>\n",
       "      <td>1234567890</td>\n",
       "    </tr>\n",
       "  </tbody>\n",
       "</table>\n",
       "</div>"
      ],
      "text/plain": [
       "   SUPP_ID       SUPP_NAME SUPP_CITY  SUPP_PHONE\n",
       "0        1  Rajesh Retails     Delhi  1234567890"
      ]
     },
     "execution_count": 21,
     "metadata": {},
     "output_type": "execute_result"
    }
   ],
   "source": [
    "Query5= \"\"\"select supplier.* from supplier,product_details\n",
    "where supplier.supp_id in\n",
    "(select product_details.supp_id from product_details\n",
    "group by product_details.supp_id having count(product_details.supp_id)>1)\n",
    "group by supplier.supp_id;\"\"\"\n",
    "curr.execute(Query5)\n",
    "output = curr.fetchall()\n",
    "output_df = pd.DataFrame(output, columns=['SUPP_ID','SUPP_NAME','SUPP_CITY','SUPP_PHONE'])\n",
    "output_df"
   ]
  },
  {
   "cell_type": "code",
   "execution_count": 22,
   "id": "ddc472d1-777c-41fc-94d7-579ce77f71c4",
   "metadata": {},
   "outputs": [
    {
     "data": {
      "text/html": [
       "<div>\n",
       "<style scoped>\n",
       "    .dataframe tbody tr th:only-of-type {\n",
       "        vertical-align: middle;\n",
       "    }\n",
       "\n",
       "    .dataframe tbody tr th {\n",
       "        vertical-align: top;\n",
       "    }\n",
       "\n",
       "    .dataframe thead th {\n",
       "        text-align: right;\n",
       "    }\n",
       "</style>\n",
       "<table border=\"1\" class=\"dataframe\">\n",
       "  <thead>\n",
       "    <tr style=\"text-align: right;\">\n",
       "      <th></th>\n",
       "      <th>CAT_ID</th>\n",
       "      <th>CAT_NAME</th>\n",
       "    </tr>\n",
       "  </thead>\n",
       "  <tbody>\n",
       "    <tr>\n",
       "      <th>0</th>\n",
       "      <td>3</td>\n",
       "      <td>GROCERIES</td>\n",
       "    </tr>\n",
       "  </tbody>\n",
       "</table>\n",
       "</div>"
      ],
      "text/plain": [
       "   CAT_ID   CAT_NAME\n",
       "0       3  GROCERIES"
      ]
     },
     "execution_count": 22,
     "metadata": {},
     "output_type": "execute_result"
    }
   ],
   "source": [
    "Query06 = \"\"\"SELECT CATEGORY.* FROM `ORDERS`\n",
    "INNER JOIN PRODUCT_DETAILS ON `ORDERS`.PROD_ID = PRODUCT_DETAILS.PROD_ID\n",
    "INNER JOIN PRODUCT ON PRODUCT.PRO_ID = PRODUCT_DETAILS.PRO_ID\n",
    "INNER JOIN CATEGORY ON CATEGORY.CAT_ID = PRODUCT.CAT_ID\n",
    "WHERE `ORDERS`.ORD_AMOUNT = (SELECT MIN(ORD_AMOUNT) FROM `ORDERS`);\"\"\"\n",
    "curr.execute(Query06)\n",
    "output = curr.fetchall()\n",
    "output_df = pd.DataFrame(output, columns=['CAT_ID','CAT_NAME'])\n",
    "output_df"
   ]
  },
  {
   "cell_type": "code",
   "execution_count": 23,
   "id": "43a2d64a-59c5-4aeb-9764-55c3edd615ce",
   "metadata": {},
   "outputs": [
    {
     "data": {
      "text/html": [
       "<div>\n",
       "<style scoped>\n",
       "    .dataframe tbody tr th:only-of-type {\n",
       "        vertical-align: middle;\n",
       "    }\n",
       "\n",
       "    .dataframe tbody tr th {\n",
       "        vertical-align: top;\n",
       "    }\n",
       "\n",
       "    .dataframe thead th {\n",
       "        text-align: right;\n",
       "    }\n",
       "</style>\n",
       "<table border=\"1\" class=\"dataframe\">\n",
       "  <thead>\n",
       "    <tr style=\"text-align: right;\">\n",
       "      <th></th>\n",
       "      <th>PRO_ID</th>\n",
       "      <th>PRO_NAME</th>\n",
       "    </tr>\n",
       "  </thead>\n",
       "  <tbody>\n",
       "    <tr>\n",
       "      <th>0</th>\n",
       "      <td>4</td>\n",
       "      <td>OATS</td>\n",
       "    </tr>\n",
       "    <tr>\n",
       "      <th>1</th>\n",
       "      <td>1</td>\n",
       "      <td>GTA V</td>\n",
       "    </tr>\n",
       "  </tbody>\n",
       "</table>\n",
       "</div>"
      ],
      "text/plain": [
       "   PRO_ID PRO_NAME\n",
       "0       4     OATS\n",
       "1       1    GTA V"
      ]
     },
     "execution_count": 23,
     "metadata": {},
     "output_type": "execute_result"
    }
   ],
   "source": [
    "Query7= \"\"\"select product.pro_id,product.pro_name\n",
    "from `orders` inner join product_details on product_details.prod_id=`orders`.prod_id\n",
    "inner join product on product.pro_id=product_details.pro_id where `orders`.ord_date>\"2021-10-05\";\"\"\"\n",
    "curr.execute(Query7)\n",
    "output = curr.fetchall()\n",
    "output_df = pd.DataFrame(output, columns=['PRO_ID','PRO_NAME'])\n",
    "output_df"
   ]
  },
  {
   "cell_type": "code",
   "execution_count": 24,
   "id": "6c538f87-4271-4dc1-9f7c-788b9b7855b2",
   "metadata": {},
   "outputs": [
    {
     "data": {
      "text/html": [
       "<div>\n",
       "<style scoped>\n",
       "    .dataframe tbody tr th:only-of-type {\n",
       "        vertical-align: middle;\n",
       "    }\n",
       "\n",
       "    .dataframe tbody tr th {\n",
       "        vertical-align: top;\n",
       "    }\n",
       "\n",
       "    .dataframe thead th {\n",
       "        text-align: right;\n",
       "    }\n",
       "</style>\n",
       "<table border=\"1\" class=\"dataframe\">\n",
       "  <thead>\n",
       "    <tr style=\"text-align: right;\">\n",
       "      <th></th>\n",
       "      <th>SUPP_ID</th>\n",
       "      <th>SUPP_NAME</th>\n",
       "      <th>CUS_NAME</th>\n",
       "      <th>RAT_RATSTARS</th>\n",
       "    </tr>\n",
       "  </thead>\n",
       "  <tbody>\n",
       "    <tr>\n",
       "      <th>0</th>\n",
       "      <td>1</td>\n",
       "      <td>Rajesh Retails</td>\n",
       "      <td>PULKIT</td>\n",
       "      <td>5</td>\n",
       "    </tr>\n",
       "    <tr>\n",
       "      <th>1</th>\n",
       "      <td>2</td>\n",
       "      <td>Appario Ltd.</td>\n",
       "      <td>AMAN</td>\n",
       "      <td>4</td>\n",
       "    </tr>\n",
       "    <tr>\n",
       "      <th>2</th>\n",
       "      <td>5</td>\n",
       "      <td>Mittal Ltd.</td>\n",
       "      <td>MEGHA</td>\n",
       "      <td>4</td>\n",
       "    </tr>\n",
       "  </tbody>\n",
       "</table>\n",
       "</div>"
      ],
      "text/plain": [
       "   SUPP_ID       SUPP_NAME CUS_NAME  RAT_RATSTARS\n",
       "0        1  Rajesh Retails   PULKIT             5\n",
       "1        2    Appario Ltd.     AMAN             4\n",
       "2        5     Mittal Ltd.    MEGHA             4"
      ]
     },
     "execution_count": 24,
     "metadata": {},
     "output_type": "execute_result"
    }
   ],
   "source": [
    "Query8= \"\"\"select supplier.supp_id,supplier.supp_name,customer.cus_name,rating.rat_ratstars\n",
    "from rating inner join supplier on rating.supp_id=supplier.supp_id\n",
    "inner join customer on rating.cus_id=customer.cus_id order by rating.rat_ratstars desc limit 3;\"\"\"\n",
    "curr.execute(Query8)\n",
    "output = curr.fetchall()\n",
    "output_df = pd.DataFrame(output, columns=['SUPP_ID','SUPP_NAME','CUS_NAME','RAT_RATSTARS'])\n",
    "output_df"
   ]
  },
  {
   "cell_type": "code",
   "execution_count": 25,
   "id": "4dc5b6b2-6cec-4ec9-ad1e-4f48d3bb3416",
   "metadata": {},
   "outputs": [
    {
     "data": {
      "text/html": [
       "<div>\n",
       "<style scoped>\n",
       "    .dataframe tbody tr th:only-of-type {\n",
       "        vertical-align: middle;\n",
       "    }\n",
       "\n",
       "    .dataframe tbody tr th {\n",
       "        vertical-align: top;\n",
       "    }\n",
       "\n",
       "    .dataframe thead th {\n",
       "        text-align: right;\n",
       "    }\n",
       "</style>\n",
       "<table border=\"1\" class=\"dataframe\">\n",
       "  <thead>\n",
       "    <tr style=\"text-align: right;\">\n",
       "      <th></th>\n",
       "      <th>CUS_NAME</th>\n",
       "      <th>CUS_GENDER</th>\n",
       "    </tr>\n",
       "  </thead>\n",
       "  <tbody>\n",
       "    <tr>\n",
       "      <th>0</th>\n",
       "      <td>AAKASH</td>\n",
       "      <td>M</td>\n",
       "    </tr>\n",
       "    <tr>\n",
       "      <th>1</th>\n",
       "      <td>AMAN</td>\n",
       "      <td>M</td>\n",
       "    </tr>\n",
       "    <tr>\n",
       "      <th>2</th>\n",
       "      <td>NEHA</td>\n",
       "      <td>F</td>\n",
       "    </tr>\n",
       "    <tr>\n",
       "      <th>3</th>\n",
       "      <td>MEGHA</td>\n",
       "      <td>F</td>\n",
       "    </tr>\n",
       "  </tbody>\n",
       "</table>\n",
       "</div>"
      ],
      "text/plain": [
       "  CUS_NAME CUS_GENDER\n",
       "0   AAKASH          M\n",
       "1     AMAN          M\n",
       "2     NEHA          F\n",
       "3    MEGHA          F"
      ]
     },
     "execution_count": 25,
     "metadata": {},
     "output_type": "execute_result"
    }
   ],
   "source": [
    "Query9= \"\"\"select customer.cus_name ,customer.cus_gender from customer where customer.cus_name like 'A%' or customer.cus_name like '%A';\"\"\"\n",
    "curr.execute(Query9)\n",
    "output = curr.fetchall()\n",
    "output_df = pd.DataFrame(output, columns=['CUS_NAME','CUS_GENDER'])\n",
    "output_df"
   ]
  },
  {
   "cell_type": "code",
   "execution_count": 26,
   "id": "200d031d-deee-4a7c-98fb-5d4c0aa6823d",
   "metadata": {},
   "outputs": [
    {
     "data": {
      "text/html": [
       "<div>\n",
       "<style scoped>\n",
       "    .dataframe tbody tr th:only-of-type {\n",
       "        vertical-align: middle;\n",
       "    }\n",
       "\n",
       "    .dataframe tbody tr th {\n",
       "        vertical-align: top;\n",
       "    }\n",
       "\n",
       "    .dataframe thead th {\n",
       "        text-align: right;\n",
       "    }\n",
       "</style>\n",
       "<table border=\"1\" class=\"dataframe\">\n",
       "  <thead>\n",
       "    <tr style=\"text-align: right;\">\n",
       "      <th></th>\n",
       "      <th>0</th>\n",
       "    </tr>\n",
       "  </thead>\n",
       "  <tbody>\n",
       "    <tr>\n",
       "      <th>0</th>\n",
       "      <td>34500</td>\n",
       "    </tr>\n",
       "  </tbody>\n",
       "</table>\n",
       "</div>"
      ],
      "text/plain": [
       "       0\n",
       "0  34500"
      ]
     },
     "execution_count": 26,
     "metadata": {},
     "output_type": "execute_result"
    }
   ],
   "source": [
    "Query10 = \"\"\"SELECT SUM(ORD_AMOUNT) AS TOTAL FROM (\n",
    "SELECT O.ORD_AMOUNT,O.CUS_ID,C.CUS_GENDER\n",
    "FROM orders O\n",
    "INNER JOIN customer C\n",
    "ON O.CUS_ID = C.CUS_ID\n",
    "WHERE C.CUS_GENDER='M') T;\"\"\"\n",
    "curr.execute(Query10)\n",
    "output = curr.fetchall()\n",
    "output_df = pd.DataFrame(output)\n",
    "output_df"
   ]
  },
  {
   "cell_type": "code",
   "execution_count": 27,
   "id": "67a9b95f-6497-4dec-b054-c577aa705444",
   "metadata": {},
   "outputs": [],
   "source": [
    "Query11=\"\"\"SELECT * FROM e_commerce.customer C\n",
    "LEFT OUTER JOIN e_commerce.orders O\n",
    "ON C.CUS_ID=O.CUS_ID;\"\"\"\n",
    "curr.execute(Query11)\n",
    "output=curr.fetchall()\n",
    "output_df = pd.DataFrame(output)\n",
    "output_df\n",
    "\n",
    "conn.close()"
   ]
  },
  {
   "cell_type": "code",
   "execution_count": 28,
   "id": "4713ce73-71d7-48b1-92df-90c1820cd927",
   "metadata": {},
   "outputs": [
    {
     "name": "stdout",
     "output_type": "stream",
     "text": [
      "Happy Learning\n"
     ]
    }
   ],
   "source": [
    "print(\"Happy Learning\")"
   ]
  },
  {
   "cell_type": "code",
   "execution_count": null,
   "id": "8da95da6-949a-44d0-b4d4-15000b334875",
   "metadata": {},
   "outputs": [],
   "source": []
  }
 ],
 "metadata": {
  "kernelspec": {
   "display_name": "Python 3 (ipykernel)",
   "language": "python",
   "name": "python3"
  },
  "language_info": {
   "codemirror_mode": {
    "name": "ipython",
    "version": 3
   },
   "file_extension": ".py",
   "mimetype": "text/x-python",
   "name": "python",
   "nbconvert_exporter": "python",
   "pygments_lexer": "ipython3",
   "version": "3.12.1"
  }
 },
 "nbformat": 4,
 "nbformat_minor": 5
}
